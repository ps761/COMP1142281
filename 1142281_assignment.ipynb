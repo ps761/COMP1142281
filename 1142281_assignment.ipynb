{
 "cells": [
  {
   "cell_type": "code",
   "execution_count": null,
   "id": "cb13cc36",
   "metadata": {},
   "outputs": [],
   "source": [
    "# Importing Libraries I began by importing the core Python libraries required for data preprocessing, analysis, and visualization. \n",
    "# These are standard libraries used throughout machine learning and data science workflows.\n",
    "\n",
    "import pandas as pd # Data manipulation and analysis.\n",
    "import numpy as np # Numerical operations and array handling.\n",
    "import matplotlib.pyplot as plt # More control, lower-level, basic plotting.\n",
    "import seaborn as sns\n",
    "from scipy import stats # Statistical functions and tests.\n",
    "\n",
    "pd.set_option('display.max_columns', None) # Display all columns in DataFrame output.\n",
    "pd.set_option('display.max_rows', None) # Display all rows in DataFrame output."
   ]
  },
  {
   "cell_type": "code",
   "execution_count": null,
   "id": "a58c39e9",
   "metadata": {},
   "outputs": [],
   "source": [
    "# Load data from CSV file \n",
    "# this reads the database into a pandas DataFrame which will serve as foundation for all subsequent analysis and modeling tasks. \n",
    "df=pd.read_csv('data/Cars24.csv')"
   ]
  },
  {
   "cell_type": "code",
   "execution_count": null,
   "id": "c163ec5a",
   "metadata": {},
   "outputs": [
    {
     "data": {
      "text/html": [
       "<style type=\"text/css\">\n",
       "</style>\n",
       "<table id=\"T_f1c4d\" style=\"font-size: 14px\">\n",
       "  <thead>\n",
       "    <tr>\n",
       "      <th class=\"blank level0\" >&nbsp;</th>\n",
       "      <th id=\"T_f1c4d_level0_col0\" class=\"col_heading level0 col0\" >Year</th>\n",
       "      <th id=\"T_f1c4d_level0_col1\" class=\"col_heading level0 col1\" >Car Model</th>\n",
       "      <th id=\"T_f1c4d_level0_col2\" class=\"col_heading level0 col2\" >Car Variant</th>\n",
       "      <th id=\"T_f1c4d_level0_col3\" class=\"col_heading level0 col3\" >KM Driven</th>\n",
       "      <th id=\"T_f1c4d_level0_col4\" class=\"col_heading level0 col4\" >Fuel Type</th>\n",
       "      <th id=\"T_f1c4d_level0_col5\" class=\"col_heading level0 col5\" >Transmission Type</th>\n",
       "      <th id=\"T_f1c4d_level0_col6\" class=\"col_heading level0 col6\" >Ownership</th>\n",
       "      <th id=\"T_f1c4d_level0_col7\" class=\"col_heading level0 col7\" >Price(in Lakhs)</th>\n",
       "      <th id=\"T_f1c4d_level0_col8\" class=\"col_heading level0 col8\" >Location</th>\n",
       "    </tr>\n",
       "  </thead>\n",
       "  <tbody>\n",
       "    <tr>\n",
       "      <th id=\"T_f1c4d_level0_row0\" class=\"row_heading level0 row0\" >0</th>\n",
       "      <td id=\"T_f1c4d_row0_col0\" class=\"data row0 col0\" >2015</td>\n",
       "      <td id=\"T_f1c4d_row0_col1\" class=\"data row0 col1\" >Maruti Swift</td>\n",
       "      <td id=\"T_f1c4d_row0_col2\" class=\"data row0 col2\" >ZDI</td>\n",
       "      <td id=\"T_f1c4d_row0_col3\" class=\"data row0 col3\" >60660</td>\n",
       "      <td id=\"T_f1c4d_row0_col4\" class=\"data row0 col4\" >Diesel</td>\n",
       "      <td id=\"T_f1c4d_row0_col5\" class=\"data row0 col5\" >Manual</td>\n",
       "      <td id=\"T_f1c4d_row0_col6\" class=\"data row0 col6\" >1st owner</td>\n",
       "      <td id=\"T_f1c4d_row0_col7\" class=\"data row0 col7\" >2.790000</td>\n",
       "      <td id=\"T_f1c4d_row0_col8\" class=\"data row0 col8\" >Suryamani Nagar Agartala Tripura</td>\n",
       "    </tr>\n",
       "    <tr>\n",
       "      <th id=\"T_f1c4d_level0_row1\" class=\"row_heading level0 row1\" >1</th>\n",
       "      <td id=\"T_f1c4d_row1_col0\" class=\"data row1 col0\" >2019</td>\n",
       "      <td id=\"T_f1c4d_row1_col1\" class=\"data row1 col1\" >Maruti Swift Dzire</td>\n",
       "      <td id=\"T_f1c4d_row1_col2\" class=\"data row1 col2\" >TOUR S PETROL</td>\n",
       "      <td id=\"T_f1c4d_row1_col3\" class=\"data row1 col3\" >150000</td>\n",
       "      <td id=\"T_f1c4d_row1_col4\" class=\"data row1 col4\" >Petrol</td>\n",
       "      <td id=\"T_f1c4d_row1_col5\" class=\"data row1 col5\" >Manual</td>\n",
       "      <td id=\"T_f1c4d_row1_col6\" class=\"data row1 col6\" >2nd owner</td>\n",
       "      <td id=\"T_f1c4d_row1_col7\" class=\"data row1 col7\" >3.570000</td>\n",
       "      <td id=\"T_f1c4d_row1_col8\" class=\"data row1 col8\" >Jogendra Nagar Agartala</td>\n",
       "    </tr>\n",
       "    <tr>\n",
       "      <th id=\"T_f1c4d_level0_row2\" class=\"row_heading level0 row2\" >2</th>\n",
       "      <td id=\"T_f1c4d_row2_col0\" class=\"data row2 col0\" >2021</td>\n",
       "      <td id=\"T_f1c4d_row2_col1\" class=\"data row2 col1\" >Mahindra XUV500</td>\n",
       "      <td id=\"T_f1c4d_row2_col2\" class=\"data row2 col2\" >W11</td>\n",
       "      <td id=\"T_f1c4d_row2_col3\" class=\"data row2 col3\" >48700</td>\n",
       "      <td id=\"T_f1c4d_row2_col4\" class=\"data row2 col4\" >Diesel</td>\n",
       "      <td id=\"T_f1c4d_row2_col5\" class=\"data row2 col5\" >Manual</td>\n",
       "      <td id=\"T_f1c4d_row2_col6\" class=\"data row2 col6\" >2nd owner</td>\n",
       "      <td id=\"T_f1c4d_row2_col7\" class=\"data row2 col7\" >11.630000</td>\n",
       "      <td id=\"T_f1c4d_row2_col8\" class=\"data row2 col8\" >Ram Nagar Agartala Tripura</td>\n",
       "    </tr>\n",
       "    <tr>\n",
       "      <th id=\"T_f1c4d_level0_row3\" class=\"row_heading level0 row3\" >3</th>\n",
       "      <td id=\"T_f1c4d_row3_col0\" class=\"data row3 col0\" >2015</td>\n",
       "      <td id=\"T_f1c4d_row3_col1\" class=\"data row3 col1\" >Maruti OMNI E</td>\n",
       "      <td id=\"T_f1c4d_row3_col2\" class=\"data row3 col2\" >8 STR</td>\n",
       "      <td id=\"T_f1c4d_row3_col3\" class=\"data row3 col3\" >55800</td>\n",
       "      <td id=\"T_f1c4d_row3_col4\" class=\"data row3 col4\" >Petrol</td>\n",
       "      <td id=\"T_f1c4d_row3_col5\" class=\"data row3 col5\" >Manual</td>\n",
       "      <td id=\"T_f1c4d_row3_col6\" class=\"data row3 col6\" >3rd owner</td>\n",
       "      <td id=\"T_f1c4d_row3_col7\" class=\"data row3 col7\" >1.460000</td>\n",
       "      <td id=\"T_f1c4d_row3_col8\" class=\"data row3 col8\" >Dhaleswar Agartala Tripura</td>\n",
       "    </tr>\n",
       "    <tr>\n",
       "      <th id=\"T_f1c4d_level0_row4\" class=\"row_heading level0 row4\" >4</th>\n",
       "      <td id=\"T_f1c4d_row4_col0\" class=\"data row4 col0\" >2010</td>\n",
       "      <td id=\"T_f1c4d_row4_col1\" class=\"data row4 col1\" >Volkswagen Vento</td>\n",
       "      <td id=\"T_f1c4d_row4_col2\" class=\"data row4 col2\" >HIGHLINE 1.6 MPI</td>\n",
       "      <td id=\"T_f1c4d_row4_col3\" class=\"data row4 col3\" >49320</td>\n",
       "      <td id=\"T_f1c4d_row4_col4\" class=\"data row4 col4\" >Petrol</td>\n",
       "      <td id=\"T_f1c4d_row4_col5\" class=\"data row4 col5\" >Manual</td>\n",
       "      <td id=\"T_f1c4d_row4_col6\" class=\"data row4 col6\" >1st owner</td>\n",
       "      <td id=\"T_f1c4d_row4_col7\" class=\"data row4 col7\" >1.790000</td>\n",
       "      <td id=\"T_f1c4d_row4_col8\" class=\"data row4 col8\" >Badharghat Agartala</td>\n",
       "    </tr>\n",
       "  </tbody>\n",
       "</table>\n"
      ],
      "text/plain": [
       "<pandas.io.formats.style.Styler at 0x27ae4c365d0>"
      ]
     },
     "execution_count": 28,
     "metadata": {},
     "output_type": "execute_result"
    }
   ],
   "source": [
    "# Display the first 5 rows of the dataset\n",
    "# This gives a quick preview of the data's structure, including column names, data types, and sample values.\n",
    "# It helps confirm whether the dataset was loaded correctly and if the expected columns are present.\n",
    "# df.tail(): Displays the *last* 5 rows of the DataFrame.\n",
    "# df.sample(10): Randomly displays 10 rows (can be useful to get unbiased examples).\n",
    "# df.head(10): Displays the first 10 rows instead of 5.\n",
    "df.head().style.set_table_attributes('style=\"font-size: 14px\"') \n",
    "\n"
   ]
  },
  {
   "cell_type": "code",
   "execution_count": null,
   "id": "9a6485b5",
   "metadata": {},
   "outputs": [
    {
     "data": {
      "text/html": [
       "<style type=\"text/css\">\n",
       "</style>\n",
       "<table id=\"T_15e1c\" style=\"font-size: 14px\">\n",
       "  <thead>\n",
       "    <tr>\n",
       "      <th class=\"blank level0\" >&nbsp;</th>\n",
       "      <th id=\"T_15e1c_level0_col0\" class=\"col_heading level0 col0\" >Year</th>\n",
       "      <th id=\"T_15e1c_level0_col1\" class=\"col_heading level0 col1\" >Car Model</th>\n",
       "      <th id=\"T_15e1c_level0_col2\" class=\"col_heading level0 col2\" >Car Variant</th>\n",
       "      <th id=\"T_15e1c_level0_col3\" class=\"col_heading level0 col3\" >KM Driven</th>\n",
       "      <th id=\"T_15e1c_level0_col4\" class=\"col_heading level0 col4\" >Fuel Type</th>\n",
       "      <th id=\"T_15e1c_level0_col5\" class=\"col_heading level0 col5\" >Transmission Type</th>\n",
       "      <th id=\"T_15e1c_level0_col6\" class=\"col_heading level0 col6\" >Ownership</th>\n",
       "      <th id=\"T_15e1c_level0_col7\" class=\"col_heading level0 col7\" >Price(in Lakhs)</th>\n",
       "      <th id=\"T_15e1c_level0_col8\" class=\"col_heading level0 col8\" >Location</th>\n",
       "    </tr>\n",
       "  </thead>\n",
       "  <tbody>\n",
       "    <tr>\n",
       "      <th id=\"T_15e1c_level0_row0\" class=\"row_heading level0 row0\" >0</th>\n",
       "      <td id=\"T_15e1c_row0_col0\" class=\"data row0 col0\" >2015</td>\n",
       "      <td id=\"T_15e1c_row0_col1\" class=\"data row0 col1\" >Maruti Swift</td>\n",
       "      <td id=\"T_15e1c_row0_col2\" class=\"data row0 col2\" >ZDI</td>\n",
       "      <td id=\"T_15e1c_row0_col3\" class=\"data row0 col3\" >60660</td>\n",
       "      <td id=\"T_15e1c_row0_col4\" class=\"data row0 col4\" >Diesel</td>\n",
       "      <td id=\"T_15e1c_row0_col5\" class=\"data row0 col5\" >Manual</td>\n",
       "      <td id=\"T_15e1c_row0_col6\" class=\"data row0 col6\" >1st owner</td>\n",
       "      <td id=\"T_15e1c_row0_col7\" class=\"data row0 col7\" >2.790000</td>\n",
       "      <td id=\"T_15e1c_row0_col8\" class=\"data row0 col8\" >Suryamani Nagar Agartala Tripura</td>\n",
       "    </tr>\n",
       "    <tr>\n",
       "      <th id=\"T_15e1c_level0_row1\" class=\"row_heading level0 row1\" >1</th>\n",
       "      <td id=\"T_15e1c_row1_col0\" class=\"data row1 col0\" >2019</td>\n",
       "      <td id=\"T_15e1c_row1_col1\" class=\"data row1 col1\" >Maruti Swift Dzire</td>\n",
       "      <td id=\"T_15e1c_row1_col2\" class=\"data row1 col2\" >TOUR S PETROL</td>\n",
       "      <td id=\"T_15e1c_row1_col3\" class=\"data row1 col3\" >150000</td>\n",
       "      <td id=\"T_15e1c_row1_col4\" class=\"data row1 col4\" >Petrol</td>\n",
       "      <td id=\"T_15e1c_row1_col5\" class=\"data row1 col5\" >Manual</td>\n",
       "      <td id=\"T_15e1c_row1_col6\" class=\"data row1 col6\" >2nd owner</td>\n",
       "      <td id=\"T_15e1c_row1_col7\" class=\"data row1 col7\" >3.570000</td>\n",
       "      <td id=\"T_15e1c_row1_col8\" class=\"data row1 col8\" >Jogendra Nagar Agartala</td>\n",
       "    </tr>\n",
       "    <tr>\n",
       "      <th id=\"T_15e1c_level0_row2\" class=\"row_heading level0 row2\" >2</th>\n",
       "      <td id=\"T_15e1c_row2_col0\" class=\"data row2 col0\" >2021</td>\n",
       "      <td id=\"T_15e1c_row2_col1\" class=\"data row2 col1\" >Mahindra XUV500</td>\n",
       "      <td id=\"T_15e1c_row2_col2\" class=\"data row2 col2\" >W11</td>\n",
       "      <td id=\"T_15e1c_row2_col3\" class=\"data row2 col3\" >48700</td>\n",
       "      <td id=\"T_15e1c_row2_col4\" class=\"data row2 col4\" >Diesel</td>\n",
       "      <td id=\"T_15e1c_row2_col5\" class=\"data row2 col5\" >Manual</td>\n",
       "      <td id=\"T_15e1c_row2_col6\" class=\"data row2 col6\" >2nd owner</td>\n",
       "      <td id=\"T_15e1c_row2_col7\" class=\"data row2 col7\" >11.630000</td>\n",
       "      <td id=\"T_15e1c_row2_col8\" class=\"data row2 col8\" >Ram Nagar Agartala Tripura</td>\n",
       "    </tr>\n",
       "    <tr>\n",
       "      <th id=\"T_15e1c_level0_row3\" class=\"row_heading level0 row3\" >3</th>\n",
       "      <td id=\"T_15e1c_row3_col0\" class=\"data row3 col0\" >2015</td>\n",
       "      <td id=\"T_15e1c_row3_col1\" class=\"data row3 col1\" >Maruti OMNI E</td>\n",
       "      <td id=\"T_15e1c_row3_col2\" class=\"data row3 col2\" >8 STR</td>\n",
       "      <td id=\"T_15e1c_row3_col3\" class=\"data row3 col3\" >55800</td>\n",
       "      <td id=\"T_15e1c_row3_col4\" class=\"data row3 col4\" >Petrol</td>\n",
       "      <td id=\"T_15e1c_row3_col5\" class=\"data row3 col5\" >Manual</td>\n",
       "      <td id=\"T_15e1c_row3_col6\" class=\"data row3 col6\" >3rd owner</td>\n",
       "      <td id=\"T_15e1c_row3_col7\" class=\"data row3 col7\" >1.460000</td>\n",
       "      <td id=\"T_15e1c_row3_col8\" class=\"data row3 col8\" >Dhaleswar Agartala Tripura</td>\n",
       "    </tr>\n",
       "    <tr>\n",
       "      <th id=\"T_15e1c_level0_row4\" class=\"row_heading level0 row4\" >4</th>\n",
       "      <td id=\"T_15e1c_row4_col0\" class=\"data row4 col0\" >2010</td>\n",
       "      <td id=\"T_15e1c_row4_col1\" class=\"data row4 col1\" >Volkswagen Vento</td>\n",
       "      <td id=\"T_15e1c_row4_col2\" class=\"data row4 col2\" >HIGHLINE 1.6 MPI</td>\n",
       "      <td id=\"T_15e1c_row4_col3\" class=\"data row4 col3\" >49320</td>\n",
       "      <td id=\"T_15e1c_row4_col4\" class=\"data row4 col4\" >Petrol</td>\n",
       "      <td id=\"T_15e1c_row4_col5\" class=\"data row4 col5\" >Manual</td>\n",
       "      <td id=\"T_15e1c_row4_col6\" class=\"data row4 col6\" >1st owner</td>\n",
       "      <td id=\"T_15e1c_row4_col7\" class=\"data row4 col7\" >1.790000</td>\n",
       "      <td id=\"T_15e1c_row4_col8\" class=\"data row4 col8\" >Badharghat Agartala</td>\n",
       "    </tr>\n",
       "  </tbody>\n",
       "</table>\n"
      ],
      "text/plain": [
       "<pandas.io.formats.style.Styler at 0x27adf8ca480>"
      ]
     },
     "execution_count": 29,
     "metadata": {},
     "output_type": "execute_result"
    }
   ],
   "source": [
    "# I wanted to improve readability\n",
    "df.head().style.set_table_attributes('style=\"font-size: 14px\"') "
   ]
  },
  {
   "cell_type": "code",
   "execution_count": null,
   "id": "f8d79368",
   "metadata": {},
   "outputs": [
    {
     "data": {
      "text/plain": [
       "(9176, 9)"
      ]
     },
     "execution_count": 30,
     "metadata": {},
     "output_type": "execute_result"
    }
   ],
   "source": [
    "#Return number of rows and columns in the DataFrame\n",
    "df.shape"
   ]
  },
  {
   "cell_type": "code",
   "execution_count": null,
   "id": "2a348c79",
   "metadata": {},
   "outputs": [
    {
     "name": "stdout",
     "output_type": "stream",
     "text": [
      "<class 'pandas.core.frame.DataFrame'>\n",
      "RangeIndex: 9176 entries, 0 to 9175\n",
      "Data columns (total 9 columns):\n",
      " #   Column             Non-Null Count  Dtype  \n",
      "---  ------             --------------  -----  \n",
      " 0   Year               9176 non-null   int64  \n",
      " 1   Car Model          9176 non-null   object \n",
      " 2   Car Variant        9176 non-null   object \n",
      " 3   KM Driven          9176 non-null   int64  \n",
      " 4   Fuel Type          9176 non-null   object \n",
      " 5   Transmission Type  9176 non-null   object \n",
      " 6   Ownership          9176 non-null   object \n",
      " 7   Price(in Lakhs)    9175 non-null   float64\n",
      " 8   Location           9173 non-null   object \n",
      "dtypes: float64(1), int64(2), object(6)\n",
      "memory usage: 645.3+ KB\n"
     ]
    }
   ],
   "source": [
    "#Return information about the DataFrame, Including data types and non-null counts.\n",
    "df.info()"
   ]
  },
  {
   "cell_type": "markdown",
   "id": "3c9ced87",
   "metadata": {},
   "source": [
    "The dataset contains 9176 rows and 9 columns.There is a mix of data types:\n",
    "\n",
    "Numerical: Year, KM Driven, Price(in Lakhs)\n",
    "\n",
    "Categorical (object type): Car Model, Car Variant, Fuel Type, Transmission Type, Ownership, Location\n",
    "\n",
    "Categorical columns will require encoding if I intend to use them later in predictive modeling. Only a few missing values exist—1 in Price and 3 in Location—which will need to be handled. Next step would be handle missing values appropriately, Check for outliers in numerical features such as KM Driven and Price(in Lakhs)."
   ]
  },
  {
   "cell_type": "code",
   "execution_count": null,
   "id": "f3f3678c",
   "metadata": {},
   "outputs": [
    {
     "data": {
      "text/html": [
       "<div>\n",
       "<style scoped>\n",
       "    .dataframe tbody tr th:only-of-type {\n",
       "        vertical-align: middle;\n",
       "    }\n",
       "\n",
       "    .dataframe tbody tr th {\n",
       "        vertical-align: top;\n",
       "    }\n",
       "\n",
       "    .dataframe thead th {\n",
       "        text-align: right;\n",
       "    }\n",
       "</style>\n",
       "<table border=\"1\" class=\"dataframe\">\n",
       "  <thead>\n",
       "    <tr style=\"text-align: right;\">\n",
       "      <th></th>\n",
       "      <th>count</th>\n",
       "      <th>mean</th>\n",
       "      <th>std</th>\n",
       "      <th>min</th>\n",
       "      <th>25%</th>\n",
       "      <th>50%</th>\n",
       "      <th>75%</th>\n",
       "      <th>max</th>\n",
       "    </tr>\n",
       "  </thead>\n",
       "  <tbody>\n",
       "    <tr>\n",
       "      <th>Year</th>\n",
       "      <td>9176.0</td>\n",
       "      <td>2017.147777</td>\n",
       "      <td>3.992440</td>\n",
       "      <td>2001.0</td>\n",
       "      <td>2014.0</td>\n",
       "      <td>2017.00</td>\n",
       "      <td>2021.00</td>\n",
       "      <td>2025.0</td>\n",
       "    </tr>\n",
       "    <tr>\n",
       "      <th>KM Driven</th>\n",
       "      <td>9176.0</td>\n",
       "      <td>89533.652354</td>\n",
       "      <td>395485.704208</td>\n",
       "      <td>1.0</td>\n",
       "      <td>44735.0</td>\n",
       "      <td>75680.00</td>\n",
       "      <td>110000.00</td>\n",
       "      <td>37270000.0</td>\n",
       "    </tr>\n",
       "    <tr>\n",
       "      <th>Price(in Lakhs)</th>\n",
       "      <td>9175.0</td>\n",
       "      <td>6.105006</td>\n",
       "      <td>5.334563</td>\n",
       "      <td>0.3</td>\n",
       "      <td>2.7</td>\n",
       "      <td>4.61</td>\n",
       "      <td>7.59</td>\n",
       "      <td>67.0</td>\n",
       "    </tr>\n",
       "  </tbody>\n",
       "</table>\n",
       "</div>"
      ],
      "text/plain": [
       "                  count          mean            std     min      25%  \\\n",
       "Year             9176.0   2017.147777       3.992440  2001.0   2014.0   \n",
       "KM Driven        9176.0  89533.652354  395485.704208     1.0  44735.0   \n",
       "Price(in Lakhs)  9175.0      6.105006       5.334563     0.3      2.7   \n",
       "\n",
       "                      50%        75%         max  \n",
       "Year              2017.00    2021.00      2025.0  \n",
       "KM Driven        75680.00  110000.00  37270000.0  \n",
       "Price(in Lakhs)      4.61       7.59        67.0  "
      ]
     },
     "execution_count": 32,
     "metadata": {},
     "output_type": "execute_result"
    }
   ],
   "source": [
    "# Return summary statistics for numerical columns in the DataFrame\n",
    "df.describe().transpose()"
   ]
  },
  {
   "cell_type": "markdown",
   "id": "d04de660",
   "metadata": {},
   "source": [
    "The summary statistics show that car manufacturing years range from 2001 to 2025, with a median of 2017.  \n",
    "The 'KM Driven' column has a median of 75,680 km, but the maximum value (37 million km) suggests extreme outliers.   \n",
    "Car prices are mostly between 0.3 and 67 lakhs. The mean (6.1) is higher than the median (4.6), which shows that a few expensive cars are pulling the average up.\n"
   ]
  },
  {
   "cell_type": "markdown",
   "id": "c5cf70df",
   "metadata": {},
   "source": [
    "Handle Duplicates \n",
    "\n",
    "In this dataset, each row represents a car listing. My focus in handling duplicates is to verify that there are no fully duplicated rows where all features (Model, Variant, Year, KM Driven, Fuel Type, Transmission, Ownership, Location, and Price) are identical.\n",
    "\n",
    "Duplicate values within individual features are expected. For example, categorical columns such as Fuel Type, Transmission Type, and Ownership will naturally repeat, since many cars share the same characteristics. These are not considered problematic duplicates.\n"
   ]
  },
  {
   "cell_type": "code",
   "execution_count": null,
   "id": "9997d888",
   "metadata": {},
   "outputs": [
    {
     "data": {
      "text/plain": [
       "Index(['Year', 'Car Model', 'Car Variant', 'KM Driven', 'Fuel Type',\n",
       "       'Transmission Type', 'Ownership', 'Price(in Lakhs)', 'Location'],\n",
       "      dtype='object')"
      ]
     },
     "execution_count": 33,
     "metadata": {},
     "output_type": "execute_result"
    }
   ],
   "source": [
    "# Show columns of dataset\n",
    "df.columns"
   ]
  },
  {
   "cell_type": "code",
   "execution_count": null,
   "id": "2ba64844",
   "metadata": {},
   "outputs": [
    {
     "name": "stdout",
     "output_type": "stream",
     "text": [
      "Number of fully identical rows: 337\n"
     ]
    }
   ],
   "source": [
    "# Check for any rows that are completely duplicated across all columns\n",
    "#full duplicate check \n",
    "duplicate_rows = df.duplicated().sum()\n",
    "print(f\"Number of fully identical rows: {duplicate_rows}\")\n"
   ]
  },
  {
   "cell_type": "markdown",
   "id": "9a6dd0f1",
   "metadata": {},
   "source": [
    "In my dataset, I found 337 fully identical rows, which I dropped to ensure that each car listing is unique.  \n",
    "\n",
    "Next, I reviewed the dataset for any irrelevant data. Irrelevant features are those that do not contribute meaningfully to the analysis or prediction task. For example, in a car sales dataset, this could include seller contact details if present. In my case, since the dataset mainly contains relevant car attributes, most columns are retained at this stage.\n",
    "I also examined duplicates on a subset ('Car Model', 'Location') and found 1567 cases; these reflect legitimate listings that differ in other attributes (e.g., year, mileage, price), so they were retained. This approach removes only true duplicates, prevents bias/leakage, and preserves genuine variation in the data.you can see this in my other file where i was following tutorial work.\n",
    "\n",
    "\n"
   ]
  },
  {
   "cell_type": "code",
   "execution_count": null,
   "id": "ab45eaae",
   "metadata": {},
   "outputs": [],
   "source": [
    "#drop duplicates \n",
    "df = df.drop_duplicates().reset_index(drop=True) "
   ]
  },
  {
   "cell_type": "code",
   "execution_count": null,
   "id": "f99ca0ca",
   "metadata": {},
   "outputs": [
    {
     "name": "stdout",
     "output_type": "stream",
     "text": [
      "After dropping, shape of dataset: (8839, 9)\n"
     ]
    }
   ],
   "source": [
    "#Verify the database again\n",
    "print(f\"After dropping, shape of dataset: {df.shape}\")"
   ]
  },
  {
   "cell_type": "code",
   "execution_count": null,
   "id": "35b2b16c",
   "metadata": {},
   "outputs": [
    {
     "name": "stdout",
     "output_type": "stream",
     "text": [
      "duplicates:0\n"
     ]
    }
   ],
   "source": [
    "#check the duplicates again\n",
    "print(f\"duplicates:{df.duplicated().sum()}\")"
   ]
  },
  {
   "cell_type": "markdown",
   "id": "71fd7cff",
   "metadata": {},
   "source": [
    "After running 'drop_duplicates()', the dataset shape reduced from (9176, 9) to (8839, 9).  \n",
    "A follow-up duplicate check confirmed that there are now 0 duplicate rows remaining.  \n",
    "This ensures each record represents a unique car listing.\n"
   ]
  },
  {
   "cell_type": "markdown",
   "id": "8f6fbe3f",
   "metadata": {},
   "source": [
    "Handle Irrelavant Data  \n",
    "I checked the dataset for irrelevant data. This included searching for ID-like columns (which serve only as identifiers) and constant features (columns with the same value for all rows).  \n",
    "In this dataset, all columns represent meaningful attributes of cars (year, model, mileage, fuel, transmission, ownership, location, and price).  \n",
    "The check for constant features returned an empty list, confirming that no irrelevant data needed to be removed.\n",
    "\n"
   ]
  },
  {
   "cell_type": "code",
   "execution_count": null,
   "id": "24600359",
   "metadata": {},
   "outputs": [
    {
     "name": "stdout",
     "output_type": "stream",
     "text": [
      "Constant features: []\n"
     ]
    }
   ],
   "source": [
    "# Check for any constant features (columns with only one unique value like all rows= petrol)\n",
    "constant_features = [col for col in df.columns if df[col].nunique() == 1]\n",
    "print(\"Constant features:\", constant_features)\n"
   ]
  },
  {
   "cell_type": "markdown",
   "id": "d4b454b0",
   "metadata": {},
   "source": [
    "Handle Missing Values "
   ]
  },
  {
   "cell_type": "code",
   "execution_count": null,
   "id": "b582bd97",
   "metadata": {},
   "outputs": [
    {
     "data": {
      "text/plain": [
       "(4, 9)"
      ]
     },
     "execution_count": 39,
     "metadata": {},
     "output_type": "execute_result"
    }
   ],
   "source": [
    "# Display the DataFrame having missing data.\n",
    "df_missing_data = df[df.isnull().any(axis=1)]\n",
    "df_missing_data.shape"
   ]
  },
  {
   "cell_type": "code",
   "execution_count": null,
   "id": "1e3d482d",
   "metadata": {},
   "outputs": [
    {
     "data": {
      "text/html": [
       "<div>\n",
       "<style scoped>\n",
       "    .dataframe tbody tr th:only-of-type {\n",
       "        vertical-align: middle;\n",
       "    }\n",
       "\n",
       "    .dataframe tbody tr th {\n",
       "        vertical-align: top;\n",
       "    }\n",
       "\n",
       "    .dataframe thead th {\n",
       "        text-align: right;\n",
       "    }\n",
       "</style>\n",
       "<table border=\"1\" class=\"dataframe\">\n",
       "  <thead>\n",
       "    <tr style=\"text-align: right;\">\n",
       "      <th></th>\n",
       "      <th>Year</th>\n",
       "      <th>Car Model</th>\n",
       "      <th>Car Variant</th>\n",
       "      <th>KM Driven</th>\n",
       "      <th>Fuel Type</th>\n",
       "      <th>Transmission Type</th>\n",
       "      <th>Ownership</th>\n",
       "      <th>Price(in Lakhs)</th>\n",
       "      <th>Location</th>\n",
       "    </tr>\n",
       "  </thead>\n",
       "  <tbody>\n",
       "    <tr>\n",
       "      <th>413</th>\n",
       "      <td>2018</td>\n",
       "      <td>Hyundai i20 Active</td>\n",
       "      <td>1.2 S</td>\n",
       "      <td>87770</td>\n",
       "      <td>Petrol</td>\n",
       "      <td>Manual</td>\n",
       "      <td>2nd owner</td>\n",
       "      <td>4.25</td>\n",
       "      <td>NaN</td>\n",
       "    </tr>\n",
       "    <tr>\n",
       "      <th>4443</th>\n",
       "      <td>2013</td>\n",
       "      <td>Hyundai i20</td>\n",
       "      <td>SPORTZ 1.4 CRDI</td>\n",
       "      <td>140000</td>\n",
       "      <td>Diesel</td>\n",
       "      <td>Manual</td>\n",
       "      <td>3rd owner</td>\n",
       "      <td>2.24</td>\n",
       "      <td>NaN</td>\n",
       "    </tr>\n",
       "    <tr>\n",
       "      <th>5591</th>\n",
       "      <td>2021</td>\n",
       "      <td>KIA SONET</td>\n",
       "      <td>GTX PLUS 1.5 AT</td>\n",
       "      <td>61640</td>\n",
       "      <td>Diesel</td>\n",
       "      <td>Auto</td>\n",
       "      <td>1st owner</td>\n",
       "      <td>10.35</td>\n",
       "      <td>NaN</td>\n",
       "    </tr>\n",
       "    <tr>\n",
       "      <th>8242</th>\n",
       "      <td>2024</td>\n",
       "      <td>BMW 7 Series</td>\n",
       "      <td>740i M Sport</td>\n",
       "      <td>12360</td>\n",
       "      <td>Petrol</td>\n",
       "      <td>Auto</td>\n",
       "      <td>1st owner</td>\n",
       "      <td>NaN</td>\n",
       "      <td>Ashok Vihar Rd, Block C, Phase 2, New Delhi</td>\n",
       "    </tr>\n",
       "  </tbody>\n",
       "</table>\n",
       "</div>"
      ],
      "text/plain": [
       "      Year           Car Model      Car Variant  KM Driven Fuel Type  \\\n",
       "413   2018  Hyundai i20 Active            1.2 S      87770    Petrol   \n",
       "4443  2013         Hyundai i20  SPORTZ 1.4 CRDI     140000    Diesel   \n",
       "5591  2021           KIA SONET  GTX PLUS 1.5 AT      61640    Diesel   \n",
       "8242  2024        BMW 7 Series     740i M Sport      12360    Petrol   \n",
       "\n",
       "     Transmission Type  Ownership  Price(in Lakhs)  \\\n",
       "413             Manual  2nd owner             4.25   \n",
       "4443            Manual  3rd owner             2.24   \n",
       "5591              Auto  1st owner            10.35   \n",
       "8242              Auto  1st owner              NaN   \n",
       "\n",
       "                                         Location  \n",
       "413                                           NaN  \n",
       "4443                                          NaN  \n",
       "5591                                          NaN  \n",
       "8242  Ashok Vihar Rd, Block C, Phase 2, New Delhi  "
      ]
     },
     "execution_count": 40,
     "metadata": {},
     "output_type": "execute_result"
    }
   ],
   "source": [
    "df_missing_data.tail()"
   ]
  },
  {
   "cell_type": "code",
   "execution_count": null,
   "id": "db16f80d",
   "metadata": {},
   "outputs": [
    {
     "name": "stdout",
     "output_type": "stream",
     "text": [
      "Total records 8839\n",
      "**********\n"
     ]
    }
   ],
   "source": [
    "# Show columns with mostly values more that x% missing values\n",
    "threshold = 5\n",
    "print(f\"Total records {df.shape[0]}\")\n",
    "print(\"*\"* 10)\n",
    "for col in df.columns:\n",
    "    missing_count = df[col].isnull().sum()\n",
    "    missing_ratio = (missing_count / df.shape[0]) * 100\n",
    "    if missing_ratio > threshold:\n",
    "        print(f\"Column: {col} has {missing_count} missing values ({missing_ratio: 2f}%)\")\n",
    "        print(\"*\"* 10)"
   ]
  },
  {
   "cell_type": "markdown",
   "id": "ff86e5e8",
   "metadata": {},
   "source": [
    "The Cars24 dataset originally contained only 4 missing values(1 in Price(in Lakhs) and 3 in Location). Since this is too small to meaningfully demonstrate different techniques, I created a copy of the dataset ('df_missing_demo')and manually introduced a few extra missing values.  \n",
    "\n",
    "This was done purely for demonstration purposes, while keeping the original dataset (`df`) unchanged. Working on the copy allowed me to clearly show both approaches to handling missing values:  \n",
    "1.Dropping missing rows – removes incomplete records but reduces dataset size.  \n",
    "2. Imputation – fills missing values with logical substitutes\n",
    "By separating the original and the demo copy, I ensured that the integrity of my dataset remains intact, while still being able to illustrate the handling of missing data.\n"
   ]
  },
  {
   "cell_type": "code",
   "execution_count": null,
   "id": "d116aa0f",
   "metadata": {},
   "outputs": [],
   "source": [
    "df_missing_demo = df.copy()\n"
   ]
  },
  {
   "cell_type": "code",
   "execution_count": null,
   "id": "f55fe01f",
   "metadata": {},
   "outputs": [],
   "source": [
    "# Load data from CSV file \n",
    "# this reads the database into a pandas DataFrame which will serve as foundation for all subsequent analysis and modeling tasks. \n",
    "df=pd.read_csv('data/Cars24.csv')"
   ]
  },
  {
   "cell_type": "code",
   "execution_count": null,
   "id": "252b92cf",
   "metadata": {},
   "outputs": [
    {
     "name": "stdout",
     "output_type": "stream",
     "text": [
      "Year                  0\n",
      "Car Model             0\n",
      "Car Variant           0\n",
      "KM Driven             0\n",
      "Fuel Type             0\n",
      "Transmission Type     0\n",
      "Ownership             0\n",
      "Price(in Lakhs)      16\n",
      "Location             18\n",
      "dtype: int64\n"
     ]
    }
   ],
   "source": [
    "price_idx = np.random.choice(df_missing_demo.index, 15, replace=False)\n",
    "df_missing_demo.loc[price_idx, 'Price(in Lakhs)'] = np.nan\n",
    "\n",
    "# Randomly pick 15 *different* rows for Location\n",
    "remaining_idx = df_missing_demo.index.difference(price_idx)\n",
    "location_idx = np.random.choice(remaining_idx, 15, replace=False)\n",
    "df_missing_demo.loc[location_idx, 'Location'] = np.nan\n",
    "\n",
    "# Check missing values\n",
    "print(df_missing_demo.isnull().sum())"
   ]
  },
  {
   "cell_type": "markdown",
   "id": "04adc438",
   "metadata": {},
   "source": [
    "I first aimed to add 5 NaNs to Price(in Lakhs) and 5 NaNs to Location. \n",
    "However, after running the 'add NaNs' cell twice (earlier experiments + this run), the counts accumulated and I ended up with about 21 missing in Price and 25 in Location.  \n",
    "This happens because every time you run that cell, it can mark more rows as NaN unless you reset the demo copy.\n",
    "\n",
    "To avoid this in future,i will start from a fresh copy each time"
   ]
  },
  {
   "cell_type": "code",
   "execution_count": null,
   "id": "62fa0710",
   "metadata": {},
   "outputs": [
    {
     "name": "stdout",
     "output_type": "stream",
     "text": [
      "Imputed 'Price(in Lakhs)' with the median value.\n",
      "Imputed 'Location' with the constant value 'Unknown'.\n",
      "\n",
      "Missing values count after imputation:\n",
      "Price(in Lakhs)    0\n",
      "Location           0\n",
      "dtype: int64\n"
     ]
    }
   ],
   "source": [
    "# Impute missing 'Price(in Lakhs)' with the median\n",
    "df_impute = df_missing_demo.copy()\n",
    "df_impute['Price(in Lakhs)'] = df_impute['Price(in Lakhs)'].fillna(df_impute['Price(in Lakhs)'].median())\n",
    "print(\"Imputed 'Price(in Lakhs)' with the median value.\")\n",
    "\n",
    "# Impute missing 'Location' with 'Unknown'\n",
    "df_impute['Location'] = df_impute['Location'].fillna('Unknown')\n",
    "print(\"Imputed 'Location' with the constant value 'Unknown'.\")\n",
    "\n",
    "# Check null value count\n",
    "print(\"\\nMissing values count after imputation:\")\n",
    "print(df_impute[['Price(in Lakhs)', 'Location']].isnull().sum())\n"
   ]
  },
  {
   "cell_type": "markdown",
   "id": "c6f0a047",
   "metadata": {},
   "source": [
    "I handled missing values in imputation way:\n",
    "\n",
    "1. Imputation  \n",
    "   Instead of dropping data, I  demonstrated imputation to keep all rows:  \n",
    "    Missing 'Price(in Lakhs)' values were replaced with the median price, since the distribution of car prices is skewed.  \n",
    "   Missing 'Location' values were replaced with the constant value 'Unknown', which groups all cars without a recorded location into one category.  \n",
    "\n",
    "After imputation, both columns had 0 missing values, and the dataset size remained (8839, 9).  \n",
    "\n",
    "This shows that while dropping is simple, imputation is preferred here because it avoids losing data and keeps the dataset consistent for analysis.\n"
   ]
  },
  {
   "cell_type": "code",
   "execution_count": null,
   "id": "10aa763f",
   "metadata": {},
   "outputs": [
    {
     "name": "stdout",
     "output_type": "stream",
     "text": [
      "Median price used for imputation: 4.56\n",
      "\n",
      "Rows where Location was imputed:\n",
      "      Year               Car Model                Car Variant  KM Driven  \\\n",
      "413   2018      Hyundai i20 Active                      1.2 S      87770   \n",
      "454   2021  Hyundai GRAND I10 NIOS  SPORTZ 1.2 KAPPA VTVT CNG      35650   \n",
      "2309  2013      Tata Safari Storme                 2.2 EX 4X2      64640   \n",
      "3419  2018          Nissan Terrano                     XE (D)      58510   \n",
      "3489  2010            Maruti Swift                        LXI     110000   \n",
      "3872  2010                 Audi Q7            3.0 TDI QUATTRO      90330   \n",
      "4128  2014           Ford Ecosport       TITANIUM 1.5L DIESEL     110000   \n",
      "4443  2013             Hyundai i20            SPORTZ 1.4 CRDI     140000   \n",
      "4806  2010             Hyundai i10                  MAGNA 1.1     110000   \n",
      "4923  2020         Mahindra XUV300          W8 (O) 1.5 DIESEL     130000   \n",
      "5591  2021               KIA SONET            GTX PLUS 1.5 AT      61640   \n",
      "6499  2019            Maruti IGNIS                   ZETA 1.2      77810   \n",
      "6610  2012              Tata Manza               VX QUADRAJET     130000   \n",
      "7307  2022           Hyundai Verna                SX 1.5 VTVT      21320   \n",
      "7566  2015               Tata Nano                  TWIST XTA      58650   \n",
      "7593  2023          Maruti Celerio                    VXI CNG      50000   \n",
      "8452  2021             Tata ALTROZ                   XZA PLUS      55250   \n",
      "8552  2010             Maruti Ritz                        VDI      78440   \n",
      "\n",
      "     Fuel Type Transmission Type  Ownership  Price(in Lakhs) Location  \n",
      "413     Petrol            Manual  2nd owner             4.25  Unknown  \n",
      "454     Petrol            Manual  1st owner             5.10  Unknown  \n",
      "2309    Diesel            Manual  3rd owner             3.71  Unknown  \n",
      "3419    Diesel            Manual  1st owner             5.33  Unknown  \n",
      "3489    Petrol            Manual  2nd owner             0.50  Unknown  \n",
      "3872    Diesel              Auto  2nd owner             7.58  Unknown  \n",
      "4128    Diesel            Manual  4th owner             2.74  Unknown  \n",
      "4443    Diesel            Manual  3rd owner             2.24  Unknown  \n",
      "4806    Petrol            Manual  2nd owner             0.79  Unknown  \n",
      "4923    Diesel            Manual  1st owner             7.50  Unknown  \n",
      "5591    Diesel              Auto  1st owner            10.35  Unknown  \n",
      "6499    Petrol            Manual  1st owner             3.84  Unknown  \n",
      "6610    Diesel            Manual  2nd owner             1.29  Unknown  \n",
      "7307    Petrol            Manual  2nd owner             9.90  Unknown  \n",
      "7566    Petrol              Auto  2nd owner             1.94  Unknown  \n",
      "7593    Petrol            Manual  1st owner             6.00  Unknown  \n",
      "8452    Petrol              Auto  1st owner             6.50  Unknown  \n",
      "8552    Diesel            Manual  6th owner             2.07  Unknown  \n",
      "\n",
      "Rows where Price was imputed with the median:\n",
      "      Year               Car Model                  Car Variant  KM Driven  \\\n",
      "423   2013             Honda Amaze               1.5L I-DTEC EX      76400   \n",
      "1303  2011             Hyundai i10                    MAGNA 1.2      85360   \n",
      "1372  2024            Tata Harrier   FEARLESS PLUS DARK EDITION      10510   \n",
      "2547  2016           Maruti Baleno             DELTA DIESEL 1.3     200000   \n",
      "3180  2014                 Audi A3             2.0 TDI  PREMIUM     140000   \n",
      "3553  2019           Maruti Baleno             SIGMA PETROL 1.2      29400   \n",
      "3627  2016            Renault Kwid                          RXL      25780   \n",
      "3628  2019         Volkswagen Polo               TRENDLINE 1.0L      91770   \n",
      "3636  2015         Mahindra XUV500                          W10     130000   \n",
      "3665  2017           Ford Ecosport         TITANIUM 1.5L DIESEL      87110   \n",
      "3818  2021              Tata Tiago               XZ PLUS PETROL      38930   \n",
      "4270  2016           Hyundai Verna                1.6 CRDI S AT     100000   \n",
      "4776  2016    Maruti Vitara Brezza           ZDI PLUS DUAL TONE     120000   \n",
      "5102  2023           Maruti BREZZA             ZXI SMART HYBRID      20210   \n",
      "5140  2016             Honda Amaze                1.2L I-VTEC S     120000   \n",
      "6542  2021         Maruti S PRESSO                      VXI CNG      97200   \n",
      "7231  2017    Maruti Vitara Brezza           ZDI PLUS DUAL TONE      59230   \n",
      "7260  2019             Maruti Alto                          VXI      36990   \n",
      "7342  2016        Mahindra Scorpio  S6 PLUS 1.99 INTELLI-HYBRID      74100   \n",
      "7635  2018           Maruti Baleno             DELTA PETROL 1.2      64080   \n",
      "7752  2018               Datsun Go                REMIX EDITION      99610   \n",
      "7850  2020  Hyundai GRAND I10 NIOS        SPORTZ 1.2 KAPPA VTVT      34800   \n",
      "8108  2021               KIA SONET             HTK PLUS 1.0 DCT      75800   \n",
      "8242  2024            BMW 7 Series                 740i M Sport      12360   \n",
      "8758  2018           Hyundai Xcent                  SX 1.2 CRDI      73760   \n",
      "\n",
      "     Fuel Type Transmission Type  Ownership  Price(in Lakhs)  \\\n",
      "423     Diesel            Manual  1st owner             4.56   \n",
      "1303    Petrol            Manual  2nd owner             4.56   \n",
      "1372    Diesel            Manual  1st owner             4.56   \n",
      "2547    Diesel            Manual  1st owner             4.56   \n",
      "3180    Diesel              Auto  4th owner             4.56   \n",
      "3553    Petrol            Manual  1st owner             4.56   \n",
      "3627    Petrol            Manual  1st owner             4.56   \n",
      "3628    Petrol            Manual  1st owner             4.56   \n",
      "3636    Diesel            Manual  1st owner             4.56   \n",
      "3665    Diesel            Manual  1st owner             4.56   \n",
      "3818    Petrol            Manual  2nd owner             4.56   \n",
      "4270    Diesel              Auto  1st owner             4.56   \n",
      "4776    Diesel            Manual  1st owner             4.56   \n",
      "5102    Petrol            Manual  1st owner             4.56   \n",
      "5140    Petrol            Manual  4th owner             4.56   \n",
      "6542    Petrol            Manual  1st owner             4.56   \n",
      "7231    Diesel            Manual  1st owner             4.56   \n",
      "7260    Petrol            Manual  1st owner             4.56   \n",
      "7342    Diesel            Manual  1st owner             4.56   \n",
      "7635    Petrol            Manual  1st owner             4.56   \n",
      "7752    Petrol            Manual  2nd owner             4.56   \n",
      "7850    Petrol            Manual  1st owner             4.56   \n",
      "8108    Petrol              Auto  2nd owner             4.56   \n",
      "8242    Petrol              Auto  1st owner             4.56   \n",
      "8758    Diesel            Manual  1st owner             4.56   \n",
      "\n",
      "                                          Location  \n",
      "423      Shashi Nagar, Guruchhaya Colony, Amravati  \n",
      "1303               Krishna Nagar Bhavnagar Gujarat  \n",
      "1372                        Subhashnagar Bhavnagar  \n",
      "2547             Moti Bunglow Dewas Madhya Pradesh  \n",
      "3180                       Sadashiv Nagar Belagavi  \n",
      "3553                            Vijaynagar Gwalior  \n",
      "3627                Lal danth Haldwani Uttarakhand  \n",
      "3628                 Haldwani Fatehpur Uttarakhand  \n",
      "3636                     Nilanchal Colony Haldwani  \n",
      "3665              Ashok Colony Hapur Uttar Pradesh  \n",
      "3818                     Patel Nagar Hisar Haryana  \n",
      "4270      Jammu Tawi Railway Station Trikuta Nagar  \n",
      "4776                           Swaraj Nagar Kanpur  \n",
      "5102                Praksh Nagar Khammam Telangana  \n",
      "5140  Himmat Bahaddur Parisar Kolhapur Maharashtra  \n",
      "6542                             Shekh Pura Palwal  \n",
      "7231                             Prem Nagar Rohtak  \n",
      "7260                    Rohtak Sarai Ahmed Haryana  \n",
      "7342                            532 Rohtak Haryana  \n",
      "7635                       Sonipat Jawahri Haryana  \n",
      "7752    KW Delhi 6, Raj Nagar Extension, Ghaziabad  \n",
      "7850    KW Delhi 6, Raj Nagar Extension, Ghaziabad  \n",
      "8108        M3M Urbana, Golf Course Ext., Gurugram  \n",
      "8242   Ashok Vihar Rd, Block C, Phase 2, New Delhi  \n",
      "8758                       Pendurthi Visakhapatnam  \n"
     ]
    }
   ],
   "source": [
    "# First check the median value used for Price\n",
    "median_price = df_impute['Price(in Lakhs)'].median()\n",
    "print(\"Median price used for imputation:\", median_price)\n",
    "\n",
    "# Show rows where Location was imputed with 'Unknown'\n",
    "print(\"\\nRows where Location was imputed:\")\n",
    "print(df_impute[df_impute['Location'] == 'Unknown'])\n",
    "\n",
    "# Show rows where Price was imputed with the median\n",
    "print(\"\\nRows where Price was imputed with the median:\")\n",
    "print(df_impute[df_impute['Price(in Lakhs)'] == median_price])\n"
   ]
  },
  {
   "cell_type": "markdown",
   "id": "488da630",
   "metadata": {},
   "source": [
    "I demonstrated handling missing values using a demo copy of the dataset where I introduced additional NaNs. This allowed me to show both dropping and imputing strategies.  "
   ]
  },
  {
   "cell_type": "code",
   "execution_count": null,
   "id": "8af32d81",
   "metadata": {},
   "outputs": [],
   "source": [
    "# Load original data from CSV file \n",
    "# this reads the database into a pandas DataFrame which will serve as foundation for all subsequent analysis and modeling tasks. \n",
    "df=pd.read_csv('data/Cars24.csv')"
   ]
  },
  {
   "cell_type": "markdown",
   "id": "e5f1ddc4",
   "metadata": {},
   "source": [
    "printing missing values in original database "
   ]
  },
  {
   "cell_type": "code",
   "execution_count": null,
   "id": "97e8c530",
   "metadata": {},
   "outputs": [
    {
     "name": "stdout",
     "output_type": "stream",
     "text": [
      "Year                 0\n",
      "Car Model            0\n",
      "Car Variant          0\n",
      "KM Driven            0\n",
      "Fuel Type            0\n",
      "Transmission Type    0\n",
      "Ownership            0\n",
      "Price(in Lakhs)      1\n",
      "Location             3\n",
      "dtype: int64\n"
     ]
    }
   ],
   "source": [
    "print(df.isnull().sum())\n"
   ]
  },
  {
   "cell_type": "code",
   "execution_count": null,
   "id": "b95f7316",
   "metadata": {},
   "outputs": [
    {
     "name": "stdout",
     "output_type": "stream",
     "text": [
      "Dropped rows with missing values. Shape after drop: (9172, 9)\n",
      "Imputed 'Price(in Lakhs)' with the median value.\n",
      "Imputed 'Location' with the mode (most common city).\n",
      "\n",
      "Missing values count after imputation:\n",
      "Price(in Lakhs)    0\n",
      "Location           0\n",
      "dtype: int64\n"
     ]
    }
   ],
   "source": [
    "# Drop rows with missing values\n",
    "df_dropna = df.dropna()\n",
    "print(\"Dropped rows with missing values. Shape after drop:\", df_dropna.shape)\n",
    "\n",
    "#Impute missing values\n",
    "df_impute = df.copy()\n",
    "\n",
    "# Impute Price(in Lakhs) with median\n",
    "df_impute['Price(in Lakhs)'] = df_impute['Price(in Lakhs)'].fillna(df_impute['Price(in Lakhs)'].median())\n",
    "print(\"Imputed 'Price(in Lakhs)' with the median value.\")\n",
    "\n",
    "# Impute Location with mode (most frequent city)\n",
    "df_impute['Location'] = df_impute['Location'].fillna(df_impute['Location'].mode()[0])\n",
    "print(\"Imputed 'Location' with the mode (most common city).\")\n",
    "\n",
    "# Check nulls after imputation\n",
    "print(\"\\nMissing values count after imputation:\")\n",
    "print(df_impute[['Price(in Lakhs)', 'Location']].isnull().sum())\n"
   ]
  },
  {
   "cell_type": "markdown",
   "id": "8a3ab516",
   "metadata": {},
   "source": [
    "I demonstrated both dropping and imputing missing values. Dropping rows is the simplest approach and can be suitable when only a very small number of records are affected. However, this reduces the dataset size. Imputation is usually preferred because it retains all records while handling the missing data logically.  \n",
    "\n",
    "In my dataset, there were only 4 missing values (1 in 'Price(in Lakhs)' and 3 in 'Location'). Either method was valid, but I chose to continue with imputation. I filled the missing  Price(in Lakhs)  with the median value (to avoid distortion from outliers) and the missing 'Location' with the mode (the most frequent city).\n"
   ]
  },
  {
   "cell_type": "markdown",
   "id": "b52bba23",
   "metadata": {},
   "source": [
    "Handeling Outliners"
   ]
  },
  {
   "cell_type": "code",
   "execution_count": null,
   "id": "a536b75e",
   "metadata": {},
   "outputs": [],
   "source": [
    "#Grab outliers because outliers are the extreme value or significantly \n",
    "#different from other values in the dataset. In regression analysis, \n",
    "#outliers can lead to inaccurate and unreliable prediction results. \n",
    "#Therefore, handling outliers is necessary in regression analysis.\n",
    "# IQR (Interquartile Range): \n",
    "#Lower bound = Q1-1.5*IQR\n",
    "#Upper bound = Q!+1.5*IQR \n",
    "#Any value outside these bounds is considered an outliner\n",
    "\n",
    "def find_outliers_IQR_method(input_df, variable):    \n",
    "    IQR= input_df[variable].quantile(0.75) - input_df[variable].quantile(0.25)\n",
    "    \n",
    "    lower_limit = input_df[variable].quantile(0.25) - (IQR*1.5)\n",
    "    upper_limit = input_df[variable].quantile(0.75) + (IQR*1.5)\n",
    "    \n",
    "    return lower_limit, upper_limit\n"
   ]
  },
  {
   "cell_type": "code",
   "execution_count": null,
   "id": "6b679e94",
   "metadata": {},
   "outputs": [
    {
     "data": {
      "text/plain": [
       "(np.float64(-53162.5), np.float64(207897.5))"
      ]
     },
     "execution_count": 51,
     "metadata": {},
     "output_type": "execute_result"
    }
   ],
   "source": [
    "#Find lower and upper limit for \n",
    "feature = 'KM Driven'\n",
    "lower, upper = find_outliers_IQR_method(df, feature)\n",
    "lower, upper"
   ]
  },
  {
   "cell_type": "code",
   "execution_count": null,
   "id": "a9cf8843",
   "metadata": {},
   "outputs": [
    {
     "data": {
      "text/plain": [
       "(np.float64(-4.634999999999999), np.float64(14.924999999999999))"
      ]
     },
     "execution_count": 53,
     "metadata": {},
     "output_type": "execute_result"
    }
   ],
   "source": [
    "feature = \"Price(in Lakhs)\"\n",
    "lower,upper = find_outliers_IQR_method(df,feature)\n",
    "lower,upper"
   ]
  },
  {
   "cell_type": "markdown",
   "id": "337b9bb7",
   "metadata": {},
   "source": [
    "When applying the IQR method, both 'KM Driven' and 'Price(in Lakhs)' outliner were detected. \n",
    "For 'KM Driven', the practical bounds was 207,897 km. Cars with mileage above this range were flagged as potential outliers.  \n",
    "For 'Price(in Lakhs)', the practical bounds was 14.9 lakhs. Cars priced above this threshold were considered unusually high for second hand car.  \n",
    "Negetive lower bounds are meaningless for the database \n"
   ]
  },
  {
   "cell_type": "code",
   "execution_count": null,
   "id": "16093475",
   "metadata": {},
   "outputs": [
    {
     "name": "stdout",
     "output_type": "stream",
     "text": [
      "Cleaned dataset : (8609, 9)\n",
      "Outliers count : 567\n"
     ]
    }
   ],
   "source": [
    "#Remove outliers w.r.t the Feature\n",
    "\n",
    "df_cleaned = df[(df[feature] > lower)&(df[feature] < upper)]\n",
    "\n",
    "print(f'Cleaned dataset : {df_cleaned.shape}')\n",
    "print(f'Outliers count : {len(df)-len(df_cleaned)}')\n"
   ]
  },
  {
   "cell_type": "code",
   "execution_count": null,
   "id": "a9562398",
   "metadata": {},
   "outputs": [
    {
     "data": {
      "text/plain": [
       "((array([-3.77342442, -3.54618383, -3.42132916, ...,  3.42132916,\n",
       "          3.54618383,  3.77342442]),\n",
       "  array([ 0.3 ,  0.33,  0.35, ..., 14.9 , 14.9 , 14.9 ])),\n",
       " (np.float64(3.1635066743758666),\n",
       "  np.float64(5.120017423626437),\n",
       "  np.float64(0.959305776087171)))"
      ]
     },
     "execution_count": 55,
     "metadata": {},
     "output_type": "execute_result"
    },
    {
     "data": {
      "image/png": "[encoded data removed]",
      "text/plain": [
       "<Figure size 1600x600 with 2 Axes>"
      ]
     },
     "metadata": {},
     "output_type": "display_data"
    }
   ],
   "source": [
    "#Probability plots before and after handling outliers\n",
    "# A probability plot (probplot)—typically used in normality testing, is also a helpful visual tool for identifying outliers \n",
    "# and assessing distribution fit. \n",
    "\n",
    "# Points far from the line\t        Possible outliers\n",
    "# Points far at the ends only\t    Outliers in tails\n",
    "# Sudden jumps in spacing\t        Data irregularities or outliers\n",
    "# S-shape curve\t                    Non-normality + possible outliers\n",
    "\n",
    "sns.set_style('whitegrid')\n",
    "plt.figure(figsize=(16,6))\n",
    "\n",
    "plt.subplot(1, 2, 1)\n",
    "stats.probplot(df[feature], plot=plt)\n",
    "\n",
    "plt.subplot(1, 2, 2)\n",
    "stats.probplot(df_cleaned[feature], plot=plt)"
   ]
  }
 ],
 "metadata": {
  "kernelspec": {
   "display_name": "comp647ps",
   "language": "python",
   "name": "python3"
  },
  "language_info": {
   "codemirror_mode": {
    "name": "ipython",
    "version": 3
   },
   "file_extension": ".py",
   "mimetype": "text/x-python",
   "name": "python",
   "nbconvert_exporter": "python",
   "pygments_lexer": "ipython3",
   "version": "3.12.11"
  }
 },
 "nbformat": 4,
 "nbformat_minor": 5
}
